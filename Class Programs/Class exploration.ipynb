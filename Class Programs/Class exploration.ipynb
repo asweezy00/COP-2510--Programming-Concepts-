{
 "cells": [
  {
   "cell_type": "code",
   "execution_count": 1,
   "metadata": {
    "collapsed": false
   },
   "outputs": [
    {
     "data": {
      "text/plain": [
       "No Outputs"
      ]
     },
     "execution_count": 1,
     "metadata": {},
     "output_type": "execute_result"
    }
   ],
   "source": [
    "//“I pledge my Honor that I have not cheated, and will not cheat, on this assignment” Kevin Ramnauth\n",
    "\n",
    "import java.util.Scanner;\n",
    "\n",
    "public class Shell\n",
    "{\n",
    "   public static void main(String[] args)\n",
    "   {\n",
    "   //Declare Constants\n",
    "   \n",
    "   //Declare Inputs\n",
    "       \n",
    "   \n",
    "   //Declare Variables\n",
    "\n",
    "   }\n",
    "}"
   ]
  },
  {
   "cell_type": "code",
   "execution_count": 2,
   "metadata": {
    "collapsed": false
   },
   "outputs": [
    {
     "name": "stdout",
     "output_type": "stream",
     "text": [
      "Failed"
     ]
    },
    {
     "data": {
      "text/plain": [
       "No Outputs"
      ]
     },
     "execution_count": 2,
     "metadata": {},
     "output_type": "execute_result"
    }
   ],
   "source": [
    "int funny = 7, serious =15;\n",
    "funny = 10\n",
    "\n",
    "switch (funny)\n",
    "{\n",
    "    case 0 : System.out.print(\"This is funny\");\n",
    "    break\n",
    "    \n",
    "    case 9: System.out.print(\"Well above average\");\n",
    "    break\n",
    "    \n",
    "    default :\n",
    "        System.out.print(\"Failed\");\n",
    "}"
   ]
  },
  {
   "cell_type": "code",
   "execution_count": 9,
   "metadata": {
    "collapsed": false
   },
   "outputs": [
    {
     "name": "stdout",
     "output_type": "stream",
     "text": [
      "boom boomboom boomboom boomboom boomboom boomboom boomboom boomboom boomboom boom"
     ]
    },
    {
     "data": {
      "text/plain": [
       "No Outputs"
      ]
     },
     "execution_count": 9,
     "metadata": {},
     "output_type": "execute_result"
    }
   ],
   "source": [
    "int x = 0\n",
    "int y = 0\n",
    "\n",
    "    while (x < 10)\n",
    "    {\n",
    "        //outcome\n",
    "        System.out.print(\"boom boom\");\n",
    "        //update\n",
    "        x++;\n",
    "    }"
   ]
  },
  {
   "cell_type": "code",
   "execution_count": null,
   "metadata": {
    "collapsed": true
   },
   "outputs": [],
   "source": []
  }
 ],
 "metadata": {
  "kernelspec": {
   "display_name": "SciJava",
   "language": "groovy",
   "name": "scijava"
  },
  "language_info": {
   "codemirror_mode": "groovy",
   "file_extension": "",
   "mimetype": "",
   "name": "scijava",
   "nbconverter_exporter": "",
   "pygments_lexer": "groovy",
   "version": "1.0"
  }
 },
 "nbformat": 4,
 "nbformat_minor": 0
}
