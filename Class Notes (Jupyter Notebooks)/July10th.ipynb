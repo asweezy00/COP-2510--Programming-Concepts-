{
 "cells": [
  {
   "cell_type": "code",
   "execution_count": 1,
   "metadata": {
    "collapsed": false
   },
   "outputs": [
    {
     "data": {
      "text/html": [
       "5&#8203;.0"
      ]
     },
     "execution_count": 1,
     "metadata": {},
     "output_type": "execute_result"
    }
   ],
   "source": [
    "//The Static Modifier\n",
    "\n",
    "//Static method is one that can be invoked through its class name, instead of through an object of that class\n",
    "\n",
    "result = Math.sqrt(25);\n",
    "\n",
    "//Variables cazn be static as well\n",
    "\n",
    "//Determing if a method or variable should be static is an important design decision"
   ]
  },
  {
   "cell_type": "code",
   "execution_count": 4,
   "metadata": {
    "collapsed": false
   },
   "outputs": [
    {
     "data": {
      "text/plain": [
       "No Outputs"
      ]
     },
     "execution_count": 4,
     "metadata": {},
     "output_type": "execute_result"
    }
   ],
   "source": [
    "//Static methods are also called class methods\n",
    "//Static variables are also called class variables\n",
    "\n",
    "//A static variable is shared amoung all instances of a class\n",
    "\n",
    "private static int count= 0\n",
    "\n",
    "//if a variable is declared as static, only one copy of the variable exists\n",
    "//memory space for a static variable is created when the class is first referenced"
   ]
  },
  {
   "cell_type": "code",
   "execution_count": 7,
   "metadata": {
    "collapsed": false
   },
   "outputs": [
    {
     "data": {
      "text/plain": [
       "No Outputs"
      ]
     },
     "execution_count": 7,
     "metadata": {},
     "output_type": "execute_result"
    }
   ],
   "source": [
    "//can a constant be static\n",
    "//-sure!\n",
    "//constants are 'varibale' whose value/content cannot be changed, thanks to the final modifier\n",
    "\n",
    "//Why have static methods?\n",
    "//-The methods in the math class perform basic calculations based on values passes as parameters\n",
    "\n",
    "//Why is the main method in java static?\n",
    "//The main method is static so that it can be executed by the Java interpreter without creating an object that contains the main\n"
   ]
  },
  {
   "cell_type": "code",
   "execution_count": 13,
   "metadata": {
    "collapsed": false
   },
   "outputs": [
    {
     "name": "stderr",
     "output_type": "stream",
     "text": [
      "org.codehaus.groovy.runtime.metaclass.MissingMethodExceptionNoStack: No signature of method: Slogan.main() is applicable for argument types: ([Ljava.lang.String;) values: [[]]\n",
      "Possible solutions: wait(), wait(long), find(), any(), wait(long, int), each(groovy.lang.Closure)\n"
     ]
    },
    {
     "data": {
      "text/plain": [
       "No Outputs"
      ]
     },
     "execution_count": 13,
     "metadata": {},
     "output_type": "execute_result"
    }
   ],
   "source": [
    "public class Slogan\n",
    "{\n",
    "    private String phrase;\n",
    "    private static int count = 0;\n",
    "    \n",
    "    public slogan(String str)\n",
    "    {\n",
    "        phrase = str;\n",
    "        count++;\n",
    "    }\n",
    "}\n",
    "\n"
   ]
  },
  {
   "cell_type": "code",
   "execution_count": 11,
   "metadata": {
    "collapsed": false
   },
   "outputs": [
    {
     "name": "stderr",
     "output_type": "stream",
     "text": [
      "org.codehaus.groovy.control.MultipleCompilationErrorsException: startup failed:\n",
      "Script9.groovy: 7: you tried to assign a value to the class 'Slogan'\n",
      " @ line 7, column 9.\n",
      "           Slogan = obj;\n",
      "           ^\n",
      "\n",
      "1 error\n",
      "\n",
      "\tat org.codehaus.groovy.control.ErrorCollector.failIfErrors(ErrorCollector.java:310)\n",
      "\tat org.codehaus.groovy.control.CompilationUnit.applyToSourceUnits(CompilationUnit.java:958)\n",
      "\tat org.codehaus.groovy.control.CompilationUnit.doPhaseOperation(CompilationUnit.java:605)\n",
      "\tat org.codehaus.groovy.control.CompilationUnit.compile(CompilationUnit.java:554)\n",
      "\tat groovy.lang.GroovyClassLoader.doParseClass(GroovyClassLoader.java:298)\n",
      "\tat groovy.lang.GroovyClassLoader.parseClass(GroovyClassLoader.java:268)\n",
      "\tat groovy.lang.GroovyClassLoader.parseClass(GroovyClassLoader.java:254)\n",
      "\tat groovy.lang.GroovyClassLoader.parseClass(GroovyClassLoader.java:250)\n",
      "\tat org.scijava.plugins.scripting.groovy.GroovyScriptEngine.getScriptClass(GroovyScriptEngine.java:319)\n",
      "\tat org.scijava.plugins.scripting.groovy.GroovyScriptEngine.eval(GroovyScriptEngine.java:122)\n",
      "\tat javax.script.AbstractScriptEngine.eval(AbstractScriptEngine.java:264)\n",
      "\tat org.scijava.script.ScriptModule.run(ScriptModule.java:159)\n",
      "\tat org.scijava.module.ModuleRunner.run(ModuleRunner.java:167)\n",
      "\tat org.scijava.jupyter.kernel.evaluator.Worker.run(Worker.java:109)\n",
      "\tat org.scijava.thread.DefaultThreadService$2.run(DefaultThreadService.java:220)\n",
      "\tat java.util.concurrent.Executors$RunnableAdapter.call(Executors.java:511)\n",
      "\tat java.util.concurrent.FutureTask.run(FutureTask.java:266)\n",
      "\tat java.util.concurrent.ThreadPoolExecutor.runWorker(ThreadPoolExecutor.java:1142)\n",
      "\tat java.util.concurrent.ThreadPoolExecutor$Worker.run(ThreadPoolExecutor.java:617)\n",
      "\tat java.lang.Thread.run(Thread.java:745)\n"
     ]
    },
    {
     "data": {
      "text/plain": [
       "No Outputs"
      ]
     },
     "execution_count": 11,
     "metadata": {},
     "output_type": "execute_result"
    }
   ],
   "source": [
    "public class SloganCounter\n",
    "{\n",
    "    Slogan obj;\n",
    "    \n",
    "    public static void main(String[] args)\n",
    "    {\n",
    "        Slogan = obj;\n",
    "    \n",
    "        obj = new Slogan(\"Remember the Alamo\")\n",
    "        System.out.println(obj)\n",
    "    }\n",
    "\n",
    "}"
   ]
  },
  {
   "cell_type": "code",
   "execution_count": 15,
   "metadata": {
    "collapsed": false
   },
   "outputs": [
    {
     "data": {
      "text/plain": [
       "No Outputs"
      ]
     },
     "execution_count": 15,
     "metadata": {},
     "output_type": "execute_result"
    }
   ],
   "source": [
    "//This Reference\n",
    "\n",
    "public Accounnt (String name, long acctNumber , double balance)\n",
    "{\n",
    "    this.name = name;\n",
    "    this.acctNumber = acctNumber;\n",
    "    this.balance = balance;\n",
    "}\n",
    "\n",
    "//This approach eliminates the need to come up with different, yet equivalent names\n",
    "///***Possible exam question****"
   ]
  },
  {
   "cell_type": "code",
   "execution_count": null,
   "metadata": {
    "collapsed": true
   },
   "outputs": [],
   "source": []
  }
 ],
 "metadata": {
  "kernelspec": {
   "display_name": "SciJava",
   "language": "groovy",
   "name": "scijava"
  },
  "language_info": {
   "codemirror_mode": "groovy",
   "file_extension": "",
   "mimetype": "",
   "name": "scijava",
   "nbconverter_exporter": "",
   "pygments_lexer": "groovy",
   "version": "1.0"
  }
 },
 "nbformat": 4,
 "nbformat_minor": 0
}
