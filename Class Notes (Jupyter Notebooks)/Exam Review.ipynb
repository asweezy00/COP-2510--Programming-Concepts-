{
 "cells": [
  {
   "cell_type": "markdown",
   "metadata": {
    "slideshow": {
     "slide_type": "slide"
    }
   },
   "source": [
    "**The statement:**\n",
    "\n",
    "    if (x < 0)\n",
    "        y = x;\n",
    "    else\n",
    "        y = 0\n",
    "        \n",
    "**can be rewritten using a conditional operator as**\n",
    "\n",
    "    A) y = (x < 0) ? x : 0;  \n",
    "    B) x = (x < 0) ? y : 0;  \n",
    "    C) (x < 0) ? x ; y;  \n",
    "    D) y = (x < 0);  \n",
    "    E) y = if (x < 0) x : 0;"
   ]
  },
  {
   "cell_type": "markdown",
   "metadata": {
    "slideshow": {
     "slide_type": "slide"
    }
   },
   "source": [
    "**Consider the following switch statement where x is an int:**\n",
    "\n",
    "    switch (x + 1) ]\n",
    "    { \n",
    "        case 9 : x += 4; \n",
    "        case 4 :  \n",
    "        case 7 : x += 3;\n",
    "        case 6 : x -= 5; \n",
    "        case 3 : x = 6; \n",
    "        case 8 : x -= 2; \n",
    "        case 1 :\n",
    "    }\n",
    "\n",
    "**If x is equal to 2 before entering the switch statement, what \n",
    "will the value of x be after the switch statement executes?**\n",
    "\n",
    "    A) 3\n",
    "    B) 6 \n",
    "    C) 1\n",
    "    D) 5\n",
    "    E) 4 "
   ]
  },
  {
   "cell_type": "markdown",
   "metadata": {
    "collapsed": false,
    "scrolled": true,
    "slideshow": {
     "slide_type": "slide"
    }
   },
   "source": [
    "**Consider the following: **\n",
    "\n",
    "    int x = 1;\n",
    "    do \n",
    "    {\n",
    "        x *= 2;\n",
    "    } \n",
    "    while (x < 5)\n",
    "\n",
    "**What will x be after the third iteration?**\n",
    "\n",
    "    A) 1\n",
    "    B) 2 \n",
    "    C) 4 \n",
    "    D) 8\n",
    "    E) x's value will change because it is an infitnite loop"
   ]
  },
  {
   "cell_type": "markdown",
   "metadata": {
    "collapsed": false,
    "slideshow": {
     "slide_type": "slide"
    }
   },
   "source": [
    "**Consider the following:**\n",
    "\n",
    "    for (int m = 0; m < 100; m++)\n",
    "        for (int n = 0; n < 100;n++)\n",
    "            x++;\n",
    "        \n",
    "**How many times will the code execute?**\n",
    "\n",
    "    A) 0 times \n",
    "    B) 100 times \n",
    "    C) 200 times\n",
    "    D) 1000 times  \n",
    "    E) 10000 times \n"
   ]
  },
  {
   "cell_type": "code",
   "execution_count": 106,
   "metadata": {
    "collapsed": false,
    "scrolled": true,
    "slideshow": {
     "slide_type": "subslide"
    }
   },
   "outputs": [
    {
     "name": "stdout",
     "output_type": "stream",
     "text": [
      "10000\n"
     ]
    },
    {
     "data": {
      "text/plain": [
       "No Outputs"
      ]
     },
     "execution_count": 106,
     "metadata": {},
     "output_type": "execute_result"
    }
   ],
   "source": [
    "'''Example of code running:'''\n",
    "\n",
    "int x = 0;\n",
    "for (int m = 0; m < 100; m++)\n",
    "    for (int n = 0; n < 100;n++)\n",
    "        x++;\n",
    "System.out.println(x)"
   ]
  },
  {
   "cell_type": "markdown",
   "metadata": {
    "collapsed": false
   },
   "source": [
    "**Assume the variable A is an array of ints. Consider the following code segment:**\n",
    "\n",
    "    int x = 0;\n",
    "    for (int k = 1; k < A.length; k++)\n",
    "        if (A[k] < A[x])\n",
    "            x = k;\n",
    "\n",
    "**Describe what x is after executing the code segment.**\n",
    "\n",
    "    A) x is the smallest element of A. \n",
    "    B) x is the largest element of A. \n",
    "    C) x is the index of the smallest element of A. \n",
    "    D) x is the index of the largest element of A. \n",
    "    E) It is not possible to determine what x is."
   ]
  },
  {
   "cell_type": "code",
   "execution_count": 126,
   "metadata": {
    "collapsed": false,
    "slideshow": {
     "slide_type": "subslide"
    }
   },
   "outputs": [
    {
     "name": "stdout",
     "output_type": "stream",
     "text": [
      "0\n"
     ]
    },
    {
     "data": {
      "text/plain": [
       "No Outputs"
      ]
     },
     "execution_count": 126,
     "metadata": {},
     "output_type": "execute_result"
    }
   ],
   "source": [
    "'''Example of code running'''\n",
    "\n",
    "int x = 0;\n",
    "int[] A;\n",
    "A = new int[1]\n",
    "    for (int k = 1; k < A.length; k++)\n",
    "        if (A[k] < A[x])\n",
    "            x = k;\n",
    "\n",
    "System.out.println(A[x])"
   ]
  },
  {
   "cell_type": "markdown",
   "metadata": {
    "collapsed": false,
    "slideshow": {
     "slide_type": "slide"
    }
   },
   "source": [
    "**if**\n",
    "    int [] arr = new int [15];\n",
    "    \n",
    "**and the statement**\n",
    "\n",
    "    arr[15] = 0;\n",
    "    \n",
    "**is executed, then what exception is thrown?**\n",
    "\n",
    "    A) NullPointerExcep2on \n",
    "    B) ArrayIndexOutofBoundsExcep2on  \n",
    "    C) Arithme2cExcep2on \n",
    "    D) IOExcep2on \n",
    "    E) No excep2on will be thrown"
   ]
  },
  {
   "cell_type": "markdown",
   "metadata": {
    "slideshow": {
     "slide_type": "slide"
    }
   },
   "source": [
    "**(Assume values is an int array that is completely filled, and that the loop control variable has been declard.)**\n",
    "\n",
    "**Which of the following loops would adequately add 1 to each element stored in values**\n",
    "\n",
    "    A)for (j=1; j < values.length; j++) values[j]++;  \n",
    "    B)for (j=0; j < values.length; j++) values[j]++;  \n",
    "    C)for (j=0; j<= values.length; j++) values[j]++;  \n",
    "    D)for (j=0; j<values.length-1; j++) values[j]++;  \n",
    "    E)for (j=1; j<values.length-1; j++) values[j]++;"
   ]
  },
  {
   "cell_type": "markdown",
   "metadata": {
    "slideshow": {
     "slide_type": "skip"
    }
   },
   "source": [
    "***B adds 1 to each element stored in the value***\n",
    "\n",
    "*A doesnt work because the it begins at index 1 instead of 0*\n",
    "\n",
    "*C doesnt work because it will produce an out of bounds error as the <= sign attempts to add 1 to an index not part of the array*\n",
    "\n",
    "*D doesnt work because nothing will be added to the last index of the array*\n",
    "\n",
    "*E doesnt work because it skips the initial index 0 and the last index so the begining and end will be 0*"
   ]
  },
  {
   "cell_type": "code",
   "execution_count": 195,
   "metadata": {
    "collapsed": false,
    "slideshow": {
     "slide_type": "subslide"
    }
   },
   "outputs": [
    {
     "name": "stdout",
     "output_type": "stream",
     "text": [
      "A before: [0, 0, 0, 0, 0], A after: [0, 1, 1, 1, 1]\n",
      "B before: [0, 0, 0, 0, 0], B After: [1, 1, 1, 1, 1]\n",
      "C before: [0, 0, 0, 0, 0], C after: [1, 1, 1, 1, 1] outofbounds\n",
      "D before: [0, 0, 0, 0, 0], D after: [1, 1, 1, 1, 0]\n",
      "E before: [0, 0, 0, 0, 0], E after: [0, 1, 1, 1, 0]"
     ]
    },
    {
     "data": {
      "text/plain": [
       "No Outputs"
      ]
     },
     "execution_count": 195,
     "metadata": {},
     "output_type": "execute_result"
    }
   ],
   "source": [
    "'''Example of code running'''\n",
    "\n",
    "int[] A,B,C,D,E;\n",
    "\n",
    "A = new int[5]\n",
    "B = new int[5]\n",
    "C = new int[5]\n",
    "D = new int[5]\n",
    "E = new int[5]\n",
    "\n",
    "System.out.print(\"A before: \" + A)\n",
    "\n",
    "for (j=1; j < A.length; j++)\n",
    "    A[j]++;\n",
    "    System.out.print(\", A after: \" + A)\n",
    "\n",
    "System.out.print(\"\\nB before: \" + B)\n",
    "for (j=0; j < B.length; j++)\n",
    "    B[j]++;\n",
    "    System.out.print(\", B After: \" + B)\n",
    "\n",
    "System.out.print(\"\\nC before: \" + C)\n",
    "\n",
    "try {    \n",
    "for (j=0; j <= C.length; j++)\n",
    "    C[j]++;\n",
    "    System.out.print(\", C after: \" + C)\n",
    "} catch (OutofBounds) {\n",
    "    System.out.print(\", C after: \" + C + \" outofbounds\")\n",
    "}\n",
    "\n",
    "System.out.print(\"\\nD before: \" + D)\n",
    "for (j=0; j<D.length-1; j++)\n",
    "    D[j]++;\n",
    "    System.out.print(\", D after: \" + D)\n",
    "\n",
    "System.out.print(\"\\nE before: \" + E)\n",
    "for (j=1; j< E.length-1; j++)\n",
    "    E[j]++;\n",
    "    System.out.print(\", E after: \" + E)\n"
   ]
  },
  {
   "cell_type": "markdown",
   "metadata": {
    "slideshow": {
     "slide_type": "slide"
    }
   },
   "source": [
    "**Which of the following methods is a static method? The class in which the method is defined is given in parentheses following the method name.**\n",
    "\n",
    "    A) equals (String)  \n",
    "    B) toUpperCase (String)  \n",
    "    C) sqrt (Math)  \n",
    "    D) format (DecimalFormat)  \n",
    "    E) hasNext(Scanner) \n"
   ]
  },
  {
   "cell_type": "markdown",
   "metadata": {
    "slideshow": {
     "slide_type": "slide"
    }
   },
   "source": [
    "**In order to preserve encapsulation of anobject, we do all of the following except for which one?**\n",
    "\n",
    "    A) Make the instance data private \n",
    "    B) Define class methods to access and  manipulate the \n",
    "       instance data  \n",
    "    C) Make class methods public  \n",
    "    D) Make the class final \n",
    "    E) All of the above preserve encapsula2on\n",
    "\n"
   ]
  },
  {
   "cell_type": "markdown",
   "metadata": {
    "slideshow": {
     "slide_type": "slide"
    }
   },
   "source": [
    "**Having multiple class methods of the same name where each method has a different number of or type of parameters is known as method overloading**\n",
    "    \n",
    "    A) encapsulation  \n",
    "    B) information hiding  \n",
    "    C) tokenizing  \n",
    "    D) importing  \n",
    "    E) method overloading "
   ]
  },
  {
   "cell_type": "markdown",
   "metadata": {
    "collapsed": false,
    "slideshow": {
     "slide_type": "slide"
    }
   },
   "source": [
    "**Use the following class definition for the next questions**\n",
    "\n",
    "    public class Student\n",
    "        {\n",
    "            private String name;\n",
    "            private String major;\n",
    "            private int hours;\n",
    "    \n",
    "            public Student (String newName, String newMajor, int newHours)\n",
    "            {\n",
    "                name = newName;\n",
    "                major = newMajor;\n",
    "                hours  = newHours;\n",
    "            }\n",
    "        }"
   ]
  },
  {
   "cell_type": "markdown",
   "metadata": {
    "slideshow": {
     "slide_type": "slide"
    }
   },
   "source": [
    "**Which of the following could be used to instantiate a new student s1?** \n",
    "\n",
    "    A) Student s1 = new Student(\"Jane Doe\", \"Computer Science\", \"33\"); \n",
    "    B) s1 = new Student(); \n",
    "    C) Student s1 = new Student(\"Jane Doe\", \"Computer Science\", 33); \n",
    "    D) new Student s1 = (\"Jane Doe\", \"Computer Science\", 33); \n",
    "    E) new Student(s1);"
   ]
  },
  {
   "cell_type": "markdown",
   "metadata": {
    "slideshow": {
     "slide_type": "slide"
    }
   },
   "source": [
    "**Assume that another method has been defined that will \n",
    "compute and return the student’s class rank (Freshman, \n",
    "Sophomore, etc).  It is defined as:**\n",
    "\n",
    "    public String getClassRank() \n",
    "\n",
    "**Given that s1 is a student, which of the following would \n",
    "properly be used to get s1’s class rank?**\n",
    "    \n",
    "    A)s1 = getClassRank(); \n",
    "    B)s1.toString(); \n",
    "    C)s1.getHours(); \n",
    "    D)s1.getClassRank(); \n",
    "    E)getClassRank(s1); "
   ]
  },
  {
   "cell_type": "markdown",
   "metadata": {
    "slideshow": {
     "slide_type": "slide"
    }
   },
   "source": [
    "**You are to write portions for a class called**\n",
    "\n",
    "    Employee \n",
    "    \n",
    "**given that an employee has a name, a position and wages, define the instance data for this class:**"
   ]
  },
  {
   "cell_type": "markdown",
   "metadata": {
    "slideshow": {
     "slide_type": "skip"
    }
   },
   "source": [
    "**Answer:**\n",
    "\n",
    "    private String name, positionl\n",
    "    private double wages;"
   ]
  },
  {
   "cell_type": "markdown",
   "metadata": {},
   "source": [
    "**Write the constructor, which is passed the employee's name and position.**\n",
    "\n",
    "    |\n",
    "    |\n",
    "    |\n",
    "    |\n",
    "    |\n",
    "    |\n",
    "    |\n",
    "    |\n",
    "    |\n",
    "    |\n",
    " \n",
    "**Note that all other data instances are initialized as well**"
   ]
  },
  {
   "cell_type": "markdown",
   "metadata": {
    "slideshow": {
     "slide_type": "skip"
    }
   },
   "source": [
    "**Answer:**\n",
    "\n",
    "    public Employee (String empname, String empposition)\n",
    "    {\n",
    "        name = empname;\n",
    "        position = empposition;\n",
    "        wages = 0.0;\n",
    "    }"
   ]
  },
  {
   "cell_type": "markdown",
   "metadata": {
    "collapsed": false,
    "slideshow": {
     "slide_type": "slide"
    }
   },
   "source": [
    "**Rewwrite the following consturctor using the this reference**\n",
    "\n",
    "    public Student (String newName, String newMajor, int newHours)\n",
    "    {\n",
    "        name = newName;\n",
    "        major = newMajor;\n",
    "        hours  = newHours;\n",
    "    }\n",
    "    \n",
    "    |\n",
    "    |\n",
    "    |\n",
    "    |\n",
    "    |\n",
    "    |\n",
    "    |\n",
    "    |"
   ]
  },
  {
   "cell_type": "markdown",
   "metadata": {
    "collapsed": false,
    "slideshow": {
     "slide_type": "skip"
    }
   },
   "source": [
    "**Answer: **\n",
    "\n",
    "    public Student (String newName, String newMajor, int newHours)\n",
    "    {\n",
    "        this.name = name;\n",
    "        this.major = major;\n",
    "        this.hours  = hours;\n",
    "    }"
   ]
  },
  {
   "cell_type": "markdown",
   "metadata": {
    "slideshow": {
     "slide_type": "slide"
    }
   },
   "source": [
    "**Write a toString Method for the Student class:**\n",
    "\n",
    "    |\n",
    "    |\n",
    "    |\n",
    "    |\n",
    "    |\n",
    "    |\n",
    "    |\n",
    "    |\n"
   ]
  },
  {
   "cell_type": "markdown",
   "metadata": {
    "slideshow": {
     "slide_type": "skip"
    }
   },
   "source": [
    "**Answer:**\n",
    "\n",
    "    public String toString()\n",
    "    {\n",
    "        return name + \"\\t\" + major + \"\\t\" + hours;\n",
    "    }   "
   ]
  },
  {
   "cell_type": "markdown",
   "metadata": {
    "slideshow": {
     "slide_type": "slide"
    }
   },
   "source": [
    "**Write a method(which recieves one parameter,**\n",
    "    side\n",
    "**) to compute the volume of a cube.**\n",
    "\n",
    "    |\n",
    "    |\n",
    "    |\n",
    "    |\n",
    "    |\n",
    "    |\n"
   ]
  },
  {
   "cell_type": "markdown",
   "metadata": {
    "collapsed": false,
    "slideshow": {
     "slide_type": "skip"
    }
   },
   "source": [
    "**Answer: **\n",
    "\n",
    "    public double volume (double side)\n",
    "    {\n",
    "        return side*side*side;//Math.pow(side, 3) works too\n",
    "    }   "
   ]
  }
 ],
 "metadata": {
  "celltoolbar": "Slideshow",
  "kernelspec": {
   "display_name": "SciJava",
   "language": "groovy",
   "name": "scijava"
  },
  "language_info": {
   "codemirror_mode": "groovy",
   "file_extension": "",
   "mimetype": "",
   "name": "scijava",
   "nbconverter_exporter": "",
   "pygments_lexer": "groovy",
   "version": "1.0"
  }
 },
 "nbformat": 4,
 "nbformat_minor": 0
}
