{
 "cells": [
  {
   "cell_type": "code",
   "execution_count": 1,
   "metadata": {
    "collapsed": false
   },
   "outputs": [
    {
     "data": {
      "text/plain": [
       "No Outputs"
      ]
     },
     "execution_count": 1,
     "metadata": {},
     "output_type": "execute_result"
    }
   ],
   "source": [
    "import java.util.Scanner;"
   ]
  },
  {
   "cell_type": "code",
   "execution_count": 2,
   "metadata": {
    "collapsed": false
   },
   "outputs": [
    {
     "name": "stdout",
     "output_type": "stream",
     "text": [
      "5 is between 0 and 10\n"
     ]
    },
    {
     "data": {
      "text/plain": [
       "No Outputs"
      ]
     },
     "execution_count": 2,
     "metadata": {},
     "output_type": "execute_result"
    }
   ],
   "source": [
    "int x = 5;\n",
    "\n",
    "if (x >= 0 && x <= 10)//condition logical and example\n",
    "{\n",
    "        System.out.println(x + \" is between 0 and 10\")\n",
    "}"
   ]
  },
  {
   "cell_type": "code",
   "execution_count": 3,
   "metadata": {
    "collapsed": false
   },
   "outputs": [
    {
     "data": {
      "text/plain": [
       "No Outputs"
      ]
     },
     "execution_count": 3,
     "metadata": {},
     "output_type": "execute_result"
    }
   ],
   "source": [
    "//The while loop\n",
    "\n",
    "int count = 10;\n",
    "while (count <=5) //condition\n",
    "\n",
    "{\n",
    "    System.out.println(count);\n",
    "    count++;    //update statement\n",
    "}"
   ]
  },
  {
   "cell_type": "code",
   "execution_count": 4,
   "metadata": {
    "collapsed": false
   },
   "outputs": [
    {
     "name": "stdout",
     "output_type": "stream",
     "text": [
      "1\n",
      "2\n",
      "3\n",
      "4\n",
      "5\n"
     ]
    },
    {
     "data": {
      "text/plain": [
       "No Outputs"
      ]
     },
     "execution_count": 4,
     "metadata": {},
     "output_type": "execute_result"
    }
   ],
   "source": [
    "//The for loop\n",
    "\n",
    "for (int count =1; count <=5; count++)//intitialized in loop, check, add count inside loop too\n",
    "//Variables initialized in the loop will only work in this loop\n",
    "    System.out.println (count);\n"
   ]
  },
  {
   "cell_type": "code",
   "execution_count": 5,
   "metadata": {
    "collapsed": false
   },
   "outputs": [
    {
     "name": "stdout",
     "output_type": "stream",
     "text": [
      "100\n",
      "95\n",
      "90\n",
      "85\n",
      "80\n",
      "75\n",
      "70\n",
      "65\n",
      "60\n",
      "55\n",
      "50\n",
      "45\n",
      "40\n",
      "35\n",
      "30\n",
      "25\n",
      "20\n",
      "15\n",
      "10\n",
      "5\n",
      "0\n"
     ]
    },
    {
     "data": {
      "text/plain": [
       "No Outputs"
      ]
     },
     "execution_count": 5,
     "metadata": {},
     "output_type": "execute_result"
    }
   ],
   "source": [
    "for (int num=100; num >= 0; num -=5)\n",
    "    System.out.println(num);"
   ]
  },
  {
   "cell_type": "code",
   "execution_count": 6,
   "metadata": {
    "collapsed": false
   },
   "outputs": [
    {
     "name": "stdout",
     "output_type": "stream",
     "text": [
      "here\n",
      "here\n",
      "here\n",
      "here\n",
      "here\n",
      "2\n",
      "here\n",
      "here\n",
      "here\n",
      "here\n",
      "here\n",
      "3\n",
      "here\n",
      "here\n",
      "here\n",
      "here\n",
      "here\n",
      "4\n",
      "here\n",
      "here\n",
      "here\n",
      "here\n",
      "here\n",
      "5\n",
      "here\n",
      "here\n",
      "here\n",
      "here\n",
      "here\n",
      "6\n",
      "here\n",
      "here\n",
      "here\n",
      "here\n",
      "here\n",
      "7\n",
      "here\n",
      "here\n",
      "here\n",
      "here\n",
      "here\n",
      "8\n",
      "here\n",
      "here\n",
      "here\n",
      "here\n",
      "here\n",
      "9\n",
      "here\n",
      "here\n",
      "here\n",
      "here\n",
      "here\n",
      "10\n",
      "here\n",
      "here\n",
      "here\n",
      "here\n",
      "here"
     ]
    }
   ],
   "source": [
    " count1 = 1;\n",
    "while (count1 <= 10)\n",
    "{\n",
    "    count2 = 1;\n",
    "    while (count2 <= 5)\n",
    "    {\n",
    "        System.out.println(\"here\");\n",
    "        count2++;        \n",
    "    }\n",
    "    count1++;\n",
    "    System.out.println(count1);\n",
    "}"
   ]
  },
  {
   "cell_type": "markdown",
   "metadata": {
    "collapsed": false
   },
   "source": [
    "final int Max_Rows = 14;\n",
    "\n",
    "for (int row =1; row <= Max_Rows; row++)\n",
    "{\n",
    "    for (int star = 1; star <= row; star++)\n",
    "        System.out.print (\"*\");//print star\n",
    "    System.out.println();//new row\n",
    "}"
   ]
  },
  {
   "cell_type": "code",
   "execution_count": 9,
   "metadata": {
    "collapsed": false
   },
   "outputs": [
    {
     "name": "stdout",
     "output_type": "stream",
     "text": [
      "1 2 3 4 6 7 8 9 10 "
     ]
    },
    {
     "data": {
      "text/plain": [
       "No Outputs"
      ]
     },
     "execution_count": 9,
     "metadata": {},
     "output_type": "execute_result"
    }
   ],
   "source": [
    "for (int i= 1; i<= 10; i++)\n",
    "{\n",
    "    if (i == 5)\n",
    "        continue;//Skips 5\n",
    "    System.out.print ( i + \" \");\n",
    "}"
   ]
  }
 ],
 "metadata": {
  "kernelspec": {
   "display_name": "SciJava",
   "language": "groovy",
   "name": "scijava"
  },
  "language_info": {
   "codemirror_mode": "groovy",
   "file_extension": "",
   "mimetype": "",
   "name": "scijava",
   "nbconverter_exporter": "",
   "pygments_lexer": "groovy",
   "version": "1.0"
  }
 },
 "nbformat": 4,
 "nbformat_minor": 0
}
