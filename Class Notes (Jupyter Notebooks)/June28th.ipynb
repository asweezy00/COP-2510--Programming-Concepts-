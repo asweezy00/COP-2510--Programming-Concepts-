{
 "cells": [
  {
   "cell_type": "code",
   "execution_count": 10,
   "metadata": {
    "collapsed": false
   },
   "outputs": [
    {
     "name": "stderr",
     "output_type": "stream",
     "text": [
      "org.codehaus.groovy.runtime.metaclass.MissingMethodExceptionNoStack: No signature of method: Dog.main() is applicable for argument types: ([Ljava.lang.String;) values: [[]]\n",
      "Possible solutions: wait(), wait(long), find(), any(), wait(long, int), print(java.io.PrintWriter)\n"
     ]
    },
    {
     "data": {
      "text/plain": [
       "No Outputs"
      ]
     },
     "execution_count": 10,
     "metadata": {},
     "output_type": "execute_result"
    }
   ],
   "source": [
    "//Dog Class\n",
    "\n",
    "public class Dog\n",
    "{\n",
    "    //instance data\n",
    "    private String name;\n",
    "    private int age;\n",
    "    private String quirks;\n",
    "    \n",
    "    //Constructor #1 - accept values\n",
    "    public Dog (String n, int a, String q)//(name, age, quirk)\n",
    "    {\n",
    "        name = n;\n",
    "        age = a;\n",
    "        quirks = q;\n",
    "    }\n",
    "    //Constructor #2 - while not accept Values\n",
    "    public Dog ()//(name, age, quirk)\n",
    "    {\n",
    "        name = \"\";\n",
    "        age = 0;\n",
    "        quirks = \"\";\n",
    "    }\n",
    "    \n",
    "    //Accessors (aka getters)\n",
    "    public String getName()\n",
    "    {\n",
    "        return name;\n",
    "    }\n",
    "    \n",
    "    public int getAge()\n",
    "    {\n",
    "        return age;\n",
    "    }\n",
    "    \n",
    "    public String getQuirks()\n",
    "    {\n",
    "        return quirks;\n",
    "    }    \n",
    "    \n",
    "    //Mutators (aka setters)\n",
    "    public void setName(String nameUp)\n",
    "    {\n",
    "        name = nameUp;\n",
    "    }\n",
    "    \n",
    "    public void setAge(int ageUp)\n",
    "    {\n",
    "        age = ageUp;\n",
    "    }\n",
    "    \n",
    "    public void setQuirks(String quirksUp)\n",
    "    {\n",
    "        quirks = quirksUp;\n",
    "    }\n",
    "    \n",
    "    //Return methods\n",
    "    public int peopleYears()\n",
    "    {\n",
    "        return age * 7;\n",
    "    }\n",
    "    \n",
    "    public String toString()\n",
    "    {\n",
    "        return \"Dog: \" + name + \"\\t\\tAge: \" + age + \"\\tPerson-Years: \" + peopleYears() + \"\\tQuirks: \" + quirks;\n",
    "    }\n",
    "}"
   ]
  },
  {
   "cell_type": "code",
   "execution_count": 26,
   "metadata": {
    "collapsed": false
   },
   "outputs": [
    {
     "name": "stdout",
     "output_type": "stream",
     "text": [
      "Dog: Pico\t\tAge: 2\tPerson-Years: 14\tQuirks: hates cats and bikes\n",
      "Dog: Kruger\t\tAge: 3\tPerson-Years: 21\tQuirks: Likes to butt bounce\n",
      "Dog:  \t\tAge: 0\tPerson-Years: 0\tQuirks:  \n",
      "Dog:  \t\tAge: 0\tPerson-Years: 0\tQuirks:  \n",
      "How many dogs? "
     ]
    },
    {
     "data": {
      "text/plain": [
       "No Outputs"
      ]
     },
     "execution_count": 26,
     "metadata": {},
     "output_type": "execute_result"
    }
   ],
   "source": [
    "//Driver Program\n",
    "\n",
    "public class Kennel\n",
    "{\n",
    "    public static void main (String[] canbeanything)\n",
    "    {\n",
    "        Scanner scan = new Scanner (System.in);\n",
    "        \n",
    "        //Create objects - test constructors\n",
    "        Dog dog1 = new Dog(\"Pico\", 2, \"hates cats and bikes\");\n",
    "        Dog dog2 = new Dog(\"Kruger\", 3, \"Likes to butt bounce\");\n",
    "        Dog dog3 = new Dog();\n",
    "        Dog dog4 = new Dog();\n",
    "        \n",
    "        System.out.println(dog1);\n",
    "        System.out.println(dog2);\n",
    "        System.out.println(dog3);\n",
    "        System.out.println(dog4);\n",
    "        \n",
    "        //Local Variables\n",
    "        String dogname, dogquirks;\n",
    "        int dogage, numberdogs;\n",
    "        \n",
    "        System.out.print(\"How many dogs? \");\n",
    "            //numberdogs = scan.nextInt();\n",
    "        for (int i  = 1; i <= numberdogs;i++)\n",
    "        {\n",
    "        System.out.print(\"Enter a dog's name: \" );\n",
    "            //dogname = scan.next(); //Hardcoded this part since you cannot input in jupyter\n",
    "       \n",
    "        System.out.print(\"Enter a dog's age: \" );\n",
    "            //dogname = scan.next(); //Hardcoded this part since you cannot input in jupyter\n",
    "        \n",
    "        System.out.print(\"Enter a dog's quirks: \" );\n",
    "            //dogname = scan.next(); //Hardcoded this part since you cannot input in jupyter   \n",
    "        }\n",
    "        \n",
    "        \n",
    "    }    \n",
    "}"
   ]
  },
  {
   "cell_type": "code",
   "execution_count": null,
   "metadata": {
    "collapsed": true
   },
   "outputs": [],
   "source": []
  }
 ],
 "metadata": {
  "kernelspec": {
   "display_name": "SciJava",
   "language": "groovy",
   "name": "scijava"
  },
  "language_info": {
   "codemirror_mode": "groovy",
   "file_extension": "",
   "mimetype": "",
   "name": "scijava",
   "nbconverter_exporter": "",
   "pygments_lexer": "groovy",
   "version": "1.0"
  }
 },
 "nbformat": 4,
 "nbformat_minor": 0
}
