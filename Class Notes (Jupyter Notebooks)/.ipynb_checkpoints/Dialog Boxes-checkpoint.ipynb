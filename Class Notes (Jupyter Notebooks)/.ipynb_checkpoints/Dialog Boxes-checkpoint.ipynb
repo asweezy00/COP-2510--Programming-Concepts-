{
 "cells": [
  {
   "cell_type": "code",
   "execution_count": null,
   "metadata": {
    "collapsed": false
   },
   "outputs": [],
   "source": [
    "//Dialog Boxes\n",
    "\n",
    "//A dialog box is a small graphical window that displays a message to a user or requests input\n",
    "\n",
    "//java allows us to display a dialogbox by using the JoptionPane class\n",
    "\n",
    "//    There are two main types of dialog boxxes\n",
    "\n",
    "//Appearance may vary by OS\n",
    "\n",
    "//To use\n",
    "\n",
    "import javax.swing.JOptionPane //Note the x in javax\n",
    "\n",
    "//Generate box\n",
    "\n",
    "JOptionPane.showMessageDialog(null, \"This is a message dialog box.\")\n",
    "\n",
    "//For now, we use null for the first argument(as we are only displaying one window)\n",
    "    \n",
    "//The dialog box wiill be displayed at the center of the screen\n",
    "\n",
    "//String input\n"
   ]
  },
  {
   "cell_type": "code",
   "execution_count": null,
   "metadata": {
    "collapsed": true
   },
   "outputs": [],
   "source": [
    "String input;\n",
    "input = JOptionPane.showInputDialog(\"This is an input dialog box. Got any input?\");\n",
    "//If the user enters inptut and press \"OK\", input will reference the String value that was entered"
   ]
  },
  {
   "cell_type": "code",
   "execution_count": null,
   "metadata": {
    "collapsed": true
   },
   "outputs": [],
   "source": [
    "//Unlike the Scanner class, Joptionpane doesnt have different methods for reading values of different types\n",
    "//The showInputDialog method will return the user's input as a String everytime\n",
    "//Therefore, you would need another method to convert it back to its intended type"
   ]
  },
  {
   "cell_type": "code",
   "execution_count": null,
   "metadata": {
    "collapsed": true
   },
   "outputs": [],
   "source": [
    "//Wrapper classes to use\n",
    "Byte.parseByte\n",
    "Double.parseDoubble\n",
    "Integer.parseInt\n",
    "Long.parseLong"
   ]
  },
  {
   "cell_type": "code",
   "execution_count": null,
   "metadata": {
    "collapsed": true
   },
   "outputs": [],
   "source": []
  }
 ],
 "metadata": {
  "kernelspec": {
   "display_name": "SciJava",
   "language": "groovy",
   "name": "scijava"
  },
  "language_info": {
   "codemirror_mode": "groovy",
   "file_extension": "",
   "mimetype": "",
   "name": "scijava",
   "nbconverter_exporter": "",
   "pygments_lexer": "groovy",
   "version": "1.0"
  }
 },
 "nbformat": 4,
 "nbformat_minor": 0
}
