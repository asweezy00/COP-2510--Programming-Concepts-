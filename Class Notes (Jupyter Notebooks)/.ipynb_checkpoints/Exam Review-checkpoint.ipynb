{
 "cells": [
  {
   "cell_type": "markdown",
   "metadata": {},
   "source": [
    "**The statement:**\n",
    "\n",
    "    if (x < 0)\n",
    "        y = x;\n",
    "    else\n",
    "        y = 0\n",
    "        \n",
    "**Can be rewritten using a conditional operate as:**\n",
    "    \n",
    "    y = (x < 0)?x:0;"
   ]
  },
  {
   "cell_type": "markdown",
   "metadata": {},
   "source": [
    "**Consider the following switch statement where x is an int:**\n",
    "\n",
    "    switch (x + 1) ]\n",
    "    { \n",
    "        case 9 : x += 4; \n",
    "        case 4 :  \n",
    "        case 7 : x += 3; \n",
    "        case 6 : x -= 5; \n",
    "        case 3 : x = 6; \n",
    "        case 8 : x -= 2; \n",
    "        case 1 :\n",
    "    }\n",
    "\n",
    "**If x is equal to 2 before entering the switch statement, what \n",
    "will the value of x be after the switch statement executes?**\n",
    "\n",
    "    x will be 4 after after the statement executes"
   ]
  },
  {
   "cell_type": "markdown",
   "metadata": {
    "collapsed": false,
    "scrolled": true
   },
   "source": [
    "**Consider the following: **\n",
    "\n",
    "    int x = 1;\n",
    "    do \n",
    "    {\n",
    "        x *= 2;\n",
    "    } \n",
    "    while (x < 5)\n",
    "\n",
    "**What will x be after the third iteration?**\n",
    "\n",
    "    x will be 8 after the third iteration"
   ]
  },
  {
   "cell_type": "markdown",
   "metadata": {
    "collapsed": false
   },
   "source": [
    "**Consider the following:**\n",
    "\n",
    "int x = 0;\n",
    "for (int m = 0; m < 100; m++)\n",
    "    for (int n = 0; n < 100;n++)\n",
    "        x++;\n",
    "        \n",
    "**How many times will the code execute?**\n",
    "\n",
    "    For every 100 loops of n, m will execute once. So for every\n",
    "    100 loops of m, n will execute 10000 times. So x equals \n",
    "    10000"
   ]
  },
  {
   "cell_type": "code",
   "execution_count": 106,
   "metadata": {
    "collapsed": false,
    "scrolled": true
   },
   "outputs": [
    {
     "name": "stdout",
     "output_type": "stream",
     "text": [
      "10000\n"
     ]
    },
    {
     "data": {
      "text/plain": [
       "No Outputs"
      ]
     },
     "execution_count": 106,
     "metadata": {},
     "output_type": "execute_result"
    }
   ],
   "source": [
    "'''Example of code running:'''\n",
    "\n",
    "int x = 0;\n",
    "for (int m = 0; m < 100; m++)\n",
    "    for (int n = 0; n < 100;n++)\n",
    "        x++;\n",
    "System.out.println(x)"
   ]
  },
  {
   "cell_type": "markdown",
   "metadata": {
    "collapsed": false
   },
   "source": [
    "**Assume the variable A is an array of ints. Consider the following code segment:**\n",
    "\n",
    "    int x = 0;\n",
    "    for (int k = 1; k < A.length; k++)\n",
    "        if (A[k] < A[x])\n",
    "            x = k;\n",
    "\n",
    "**Describe what x is after executing the code segment.**\n",
    "\n",
    "            x will be the smallest element of A"
   ]
  },
  {
   "cell_type": "code",
   "execution_count": 126,
   "metadata": {
    "collapsed": false
   },
   "outputs": [
    {
     "name": "stdout",
     "output_type": "stream",
     "text": [
      "0\n"
     ]
    },
    {
     "data": {
      "text/plain": [
       "No Outputs"
      ]
     },
     "execution_count": 126,
     "metadata": {},
     "output_type": "execute_result"
    }
   ],
   "source": [
    "'''Example of code running'''\n",
    "\n",
    "int x = 0;\n",
    "int[] A;\n",
    "A = new int[1]\n",
    "    for (int k = 1; k < A.length; k++)\n",
    "        if (A[k] < A[x])\n",
    "            x = k;\n",
    "\n",
    "System.out.println(A[x])"
   ]
  },
  {
   "cell_type": "markdown",
   "metadata": {
    "collapsed": false
   },
   "source": [
    "**if**\n",
    "    int [] arr = new int [15];\n",
    "    \n",
    "**and the statement**\n",
    "\n",
    "    arr[15] = 0;\n",
    "    \n",
    "**is executed, then what exception is thrown?**\n",
    "\n",
    "    arr[15] is attemptng to set index 15 of the array to 0 \n",
    "    however since array's begin at 0 the index will\n",
    "    only go up to 14 so an ArrayIndexOutofBoundsException \n",
    "    will be thrown"
   ]
  },
  {
   "cell_type": "code",
   "execution_count": null,
   "metadata": {
    "collapsed": true
   },
   "outputs": [],
   "source": []
  },
  {
   "cell_type": "code",
   "execution_count": 66,
   "metadata": {
    "collapsed": false
   },
   "outputs": [
    {
     "name": "stdout",
     "output_type": "stream",
     "text": [
      "[1, 1, 1, 1, 1, 1, 1, 1, 1, 1]\n"
     ]
    },
    {
     "data": {
      "text/plain": [
       "No Outputs"
      ]
     },
     "execution_count": 66,
     "metadata": {},
     "output_type": "execute_result"
    }
   ],
   "source": [
    "int[] values;\n",
    "values = new int[10]\n",
    "for (j=0; j < values.length; j++)\n",
    "    values[j]++;\n",
    "\n",
    "System.out.println(values)"
   ]
  },
  {
   "cell_type": "markdown",
   "metadata": {},
   "source": [
    "Which of the following methods is a static method?\n",
    "The class in which the method is defined is given in parentheses following the method name.\n",
    "\n",
    " * sqrt(math)\n",
    "\n",
    "the methods in the math class are static\n",
    "\n"
   ]
  },
  {
   "cell_type": "markdown",
   "metadata": {},
   "source": [
    "**Having multiple class methods of the same name where each method has a different number of or type of parameters is known as method overloading**"
   ]
  },
  {
   "cell_type": "code",
   "execution_count": 78,
   "metadata": {
    "collapsed": false
   },
   "outputs": [
    {
     "data": {
      "text/plain": [
       "public class Student\n",
       "{\n",
       "    private String name;\n",
       "    private String major;\n",
       "    private int hours;\n",
       "    \n",
       "    public Student (String newName, String newMajor, int newHours)\n",
       "    {\n",
       "        name = newName;\n",
       "        major = newMajor;\n",
       "        hours  = newHours;\n",
       "    }\n",
       "}"
      ]
     },
     "execution_count": 78,
     "metadata": {},
     "output_type": "execute_result"
    }
   ],
   "source": [
    "//What is the correct syntex to create a new student\n",
    "'''public class Student\n",
    "{\n",
    "    private String name;\n",
    "    private String major;\n",
    "    private int hours;\n",
    "    \n",
    "    public Student (String newName, String newMajor, int newHours)\n",
    "    {\n",
    "        name = newName;\n",
    "        major = newMajor;\n",
    "        hours  = newHours;\n",
    "    }\n",
    "}'''"
   ]
  },
  {
   "cell_type": "code",
   "execution_count": 74,
   "metadata": {
    "collapsed": false
   },
   "outputs": [
    {
     "name": "stdout",
     "output_type": "stream",
     "text": [
      "Student@5ee3df91\n"
     ]
    },
    {
     "data": {
      "text/plain": [
       "No Outputs"
      ]
     },
     "execution_count": 74,
     "metadata": {},
     "output_type": "execute_result"
    }
   ],
   "source": [
    "Student s1 = new Student(\"Jane Doe\", \"Computer Science\", 33);\n",
    "\n",
    "System.out.println(s1)"
   ]
  },
  {
   "cell_type": "markdown",
   "metadata": {},
   "source": [
    "You are to write portions for a class called Employee\n",
    "\n",
    "Given that an employee has a name, a position and wages, define the instance data for this class:"
   ]
  },
  {
   "cell_type": "markdown",
   "metadata": {},
   "source": [
    "Write the constructor, which is passed the employee's name and position."
   ]
  },
  {
   "cell_type": "code",
   "execution_count": 85,
   "metadata": {
    "collapsed": false
   },
   "outputs": [
    {
     "data": {
      "text/plain": [
       "\n",
       "public Employee (String empname, String empposition)\n",
       "{\n",
       "    name = empname;\n",
       "    position = empposition;\n",
       "    wages = 0.0;\n",
       "}"
      ]
     },
     "execution_count": 85,
     "metadata": {},
     "output_type": "execute_result"
    }
   ],
   "source": [
    "'''\n",
    "public Employee (String empname, String empposition)\n",
    "{\n",
    "    name = empname;\n",
    "    position = empposition;\n",
    "    wages = 0.0;\n",
    "}'''"
   ]
  },
  {
   "cell_type": "markdown",
   "metadata": {},
   "source": [
    "Rewwrite the following consturctor using the this reference"
   ]
  },
  {
   "cell_type": "code",
   "execution_count": 88,
   "metadata": {
    "collapsed": false
   },
   "outputs": [
    {
     "data": {
      "text/plain": [
       "    \n",
       "public Student (String newName, String newMajor, int newHours)\n",
       "{\n",
       "    name = newName;\n",
       "    major = newMajor;\n",
       "    hours  = newHours;\n",
       "}"
      ]
     },
     "execution_count": 88,
     "metadata": {},
     "output_type": "execute_result"
    }
   ],
   "source": [
    "'''    \n",
    "public Student (String newName, String newMajor, int newHours)\n",
    "{\n",
    "    name = newName;\n",
    "    major = newMajor;\n",
    "    hours  = newHours;\n",
    "}'''"
   ]
  },
  {
   "cell_type": "code",
   "execution_count": 94,
   "metadata": {
    "collapsed": false
   },
   "outputs": [
    {
     "data": {
      "text/plain": [
       "\n",
       "public Student (String newName, String newMajor, int newHours)\n",
       "{\n",
       "    this.name = name;\n",
       "    this.major = major;\n",
       "    this.hours  = hours;\n",
       "}\n"
      ]
     },
     "execution_count": 94,
     "metadata": {},
     "output_type": "execute_result"
    }
   ],
   "source": [
    "'''\n",
    "public Student (String newName, String newMajor, int newHours)\n",
    "{\n",
    "    this.name = name;\n",
    "    this.major = major;\n",
    "    this.hours  = hours;\n",
    "}\n",
    "'''"
   ]
  },
  {
   "cell_type": "markdown",
   "metadata": {},
   "source": [
    "Write a toString Method for the Student class"
   ]
  },
  {
   "cell_type": "code",
   "execution_count": 91,
   "metadata": {
    "collapsed": false
   },
   "outputs": [
    {
     "data": {
      "text/plain": [
       "\n",
       "public String toString()\n",
       "{\n",
       "    return name + \"\t\" + major + \"\t\" + hours;\n",
       "}\n"
      ]
     },
     "execution_count": 91,
     "metadata": {},
     "output_type": "execute_result"
    }
   ],
   "source": [
    "\n",
    "'''\n",
    "public String toString()\n",
    "{\n",
    "    return name + \"\\t\" + major + \"\\t\" + hours;\n",
    "}\n",
    "'''"
   ]
  },
  {
   "cell_type": "markdown",
   "metadata": {},
   "source": [
    "Write a method(which recieves one parameter, side) to compute the volume of a cube.\n"
   ]
  },
  {
   "cell_type": "code",
   "execution_count": 93,
   "metadata": {
    "collapsed": false
   },
   "outputs": [
    {
     "data": {
      "text/plain": [
       "\n",
       "public double volume (double side)\n",
       "{\n",
       "    return side*side*side;//Math.pow(side, 3) works too\n",
       "}\n"
      ]
     },
     "execution_count": 93,
     "metadata": {},
     "output_type": "execute_result"
    }
   ],
   "source": [
    "'''\n",
    "public double volume (double side)\n",
    "{\n",
    "    return side*side*side;//Math.pow(side, 3) works too\n",
    "}\n",
    "'''"
   ]
  }
 ],
 "metadata": {
  "kernelspec": {
   "display_name": "SciJava",
   "language": "groovy",
   "name": "scijava"
  },
  "language_info": {
   "codemirror_mode": "groovy",
   "file_extension": "",
   "mimetype": "",
   "name": "scijava",
   "nbconverter_exporter": "",
   "pygments_lexer": "groovy",
   "version": "1.0"
  }
 },
 "nbformat": 4,
 "nbformat_minor": 0
}
