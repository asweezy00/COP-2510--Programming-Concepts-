{
 "cells": [
  {
   "cell_type": "code",
   "execution_count": 1,
   "metadata": {
    "collapsed": false
   },
   "outputs": [
    {
     "data": {
      "text/plain": [
       "No Outputs"
      ]
     },
     "execution_count": 1,
     "metadata": {},
     "output_type": "execute_result"
    }
   ],
   "source": [
    "//File must be opened\n",
    "///Data is then read or written to the file\n",
    "//File must be closed after the program is finished using\n",
    "\n",
    "import java.util.Scanner;\n",
    "import java.io.*;\n",
    "\n",
    "//Any method that uses a Scanner onject to read a file\n",
    "//must have a throws IOException clause in its header\n",
    "\n",
    "public static void main (String[] Args) throws IOException\n",
    "{\n",
    "    File inputfile = new File (\"TheRaven.Txt\") //Opens File\n",
    "    Scanner scan = new Scanner (inputfile)\n",
    "\n",
    "    while (scan.hasNext())\n",
    "    {\n",
    "        String Name = scan.NextLine();\n",
    "        \n",
    "        System.out.println(wordcount);\n",
    "    }\n",
    "\n",
    "    scan.close();//Closes file\n",
    "}    "
   ]
  },
  {
   "cell_type": "code",
   "execution_count": null,
   "metadata": {
    "collapsed": false
   },
   "outputs": [],
   "source": [
    "//Writing to a file\n",
    "\n",
    "//1. Import the scanner and file scan\n",
    "//2. include throws clause\n",
    "//3. Include PrintWriter object\n",
    "\n",
    "Printwriter outfile = new Printwriter(\"Movies.txt\");\n",
    "\n",
    "String Filename = \"Movies.txt\";\n",
    "PrintWriter outfile = new PrintWriter(filename)\n",
    "\n",
    "//**WARNING** If the file you are opening with the Printwriter object exists, it will overwrite\n",
    "//Use Exists method to ensure the file exists\n",
    "\n",
    "//Write data to file\n",
    "\n",
    "outfile.println(movie); //Same as system.out\n",
    "outfile.close //Close the file"
   ]
  },
  {
   "cell_type": "code",
   "execution_count": null,
   "metadata": {
    "collapsed": true
   },
   "outputs": [],
   "source": []
  }
 ],
 "metadata": {
  "kernelspec": {
   "display_name": "SciJava",
   "language": "groovy",
   "name": "scijava"
  },
  "language_info": {
   "codemirror_mode": "groovy",
   "file_extension": "",
   "mimetype": "",
   "name": "scijava",
   "nbconverter_exporter": "",
   "pygments_lexer": "groovy",
   "version": "1.0"
  }
 },
 "nbformat": 4,
 "nbformat_minor": 0
}
