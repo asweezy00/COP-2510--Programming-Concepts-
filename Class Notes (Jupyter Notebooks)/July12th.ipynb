{
 "cells": [
  {
   "cell_type": "code",
   "execution_count": 2,
   "metadata": {
    "collapsed": false
   },
   "outputs": [
    {
     "name": "stderr",
     "output_type": "stream",
     "text": [
      "org.codehaus.groovy.control.MultipleCompilationErrorsException: startup failed:\n",
      "Script2.groovy: 30: unexpected token: = @ line 30, column 12.\n",
      "              = new OutOfRangeException(\"Hey dummy, that's an invalid number.\"); \n",
      "              ^\n",
      "\n",
      "1 error\n",
      "\n",
      "\tat org.codehaus.groovy.control.ErrorCollector.failIfErrors(ErrorCollector.java:310)\n",
      "\tat org.codehaus.groovy.control.ErrorCollector.addFatalError(ErrorCollector.java:150)\n",
      "\tat org.codehaus.groovy.control.ErrorCollector.addError(ErrorCollector.java:120)\n",
      "\tat org.codehaus.groovy.control.ErrorCollector.addError(ErrorCollector.java:132)\n",
      "\tat org.codehaus.groovy.control.SourceUnit.addError(SourceUnit.java:350)\n",
      "\tat org.codehaus.groovy.antlr.AntlrParserPlugin.transformCSTIntoAST(AntlrParserPlugin.java:144)\n",
      "\tat org.codehaus.groovy.antlr.AntlrParserPlugin.parseCST(AntlrParserPlugin.java:110)\n",
      "\tat org.codehaus.groovy.control.SourceUnit.parse(SourceUnit.java:234)\n",
      "\tat org.codehaus.groovy.control.CompilationUnit$1.call(CompilationUnit.java:168)\n",
      "\tat org.codehaus.groovy.control.CompilationUnit.applyToSourceUnits(CompilationUnit.java:943)\n",
      "\tat org.codehaus.groovy.control.CompilationUnit.doPhaseOperation(CompilationUnit.java:605)\n",
      "\tat org.codehaus.groovy.control.CompilationUnit.processPhaseOperations(CompilationUnit.java:581)\n",
      "\tat org.codehaus.groovy.control.CompilationUnit.compile(CompilationUnit.java:558)\n",
      "\tat groovy.lang.GroovyClassLoader.doParseClass(GroovyClassLoader.java:298)\n",
      "\tat groovy.lang.GroovyClassLoader.parseClass(GroovyClassLoader.java:268)\n",
      "\tat groovy.lang.GroovyClassLoader.parseClass(GroovyClassLoader.java:254)\n",
      "\tat groovy.lang.GroovyClassLoader.parseClass(GroovyClassLoader.java:250)\n",
      "\tat org.scijava.plugins.scripting.groovy.GroovyScriptEngine.getScriptClass(GroovyScriptEngine.java:319)\n",
      "\tat org.scijava.plugins.scripting.groovy.GroovyScriptEngine.eval(GroovyScriptEngine.java:122)\n",
      "\tat javax.script.AbstractScriptEngine.eval(AbstractScriptEngine.java:264)\n",
      "\tat org.scijava.script.ScriptModule.run(ScriptModule.java:159)\n",
      "\tat org.scijava.module.ModuleRunner.run(ModuleRunner.java:167)\n",
      "\tat org.scijava.jupyter.kernel.evaluator.Worker.run(Worker.java:109)\n",
      "\tat org.scijava.thread.DefaultThreadService$2.run(DefaultThreadService.java:220)\n",
      "\tat java.util.concurrent.Executors$RunnableAdapter.call(Executors.java:511)\n",
      "\tat java.util.concurrent.FutureTask.run(FutureTask.java:266)\n",
      "\tat java.util.concurrent.ThreadPoolExecutor.runWorker(ThreadPoolExecutor.java:1142)\n",
      "\tat java.util.concurrent.ThreadPoolExecutor$Worker.run(ThreadPoolExecutor.java:617)\n",
      "\tat java.lang.Thread.run(Thread.java:745)\n"
     ]
    },
    {
     "data": {
      "text/plain": [
       "No Outputs"
      ]
     },
     "execution_count": 2,
     "metadata": {},
     "output_type": "execute_result"
    }
   ],
   "source": [
    "//Example 1 – deriving an exception class\n",
    "\n",
    "// Example of a new exception that was created by \n",
    "// extending the existing Exception class. \n",
    "// Kinda simple (and silly) but most exceptions\n",
    "// are created this way!\n",
    "\n",
    "public class OutOfRangeException extends Exception\n",
    "{\n",
    "   OutOfRangeException(String message)\n",
    "   {\n",
    "      super(message); // Inheritance concept: super keyword \n",
    "                      // used to refer to the immediate parent \n",
    "                      // class instance variable\n",
    "   }\n",
    "}\n",
    "\n",
    "//Example 2 – using a derived exception class\n",
    "\n",
    "import java.util.Scanner;  \n",
    "\n",
    "public class ExceptionTest\n",
    "{\n",
    "   // OutOfRangeException is part of Exception class which is  \n",
    "   // part of java.lang package\n",
    "   public static void main (String [] args) throws OutOfRangeException \n",
    "   {  \n",
    "      //Create an exception object\n",
    "      OutOfRangeException invalid \n",
    "           = new OutOfRangeException(\"Hey dummy, that's an invalid number.\"); \n",
    "   \n",
    "      int number;\n",
    "      Scanner input = new Scanner(System.in);\n",
    "      \n",
    "      System.out.print (\"Enter a positive integer: \");\n",
    "      number = input.nextInt();\n",
    "      \n",
    "      if (number < 0)\n",
    "         throw invalid; \n",
    "      \n",
    "      System.out.print(\"Ok, your number is \" + number + \".\\nThank you!\");\n",
    "   }\n",
    "}\n",
    "\n"
   ]
  },
  {
   "cell_type": "code",
   "execution_count": null,
   "metadata": {
    "collapsed": true
   },
   "outputs": [],
   "source": []
  }
 ],
 "metadata": {
  "kernelspec": {
   "display_name": "SciJava",
   "language": "groovy",
   "name": "scijava"
  },
  "language_info": {
   "codemirror_mode": "groovy",
   "file_extension": "",
   "mimetype": "",
   "name": "scijava",
   "nbconverter_exporter": "",
   "pygments_lexer": "groovy",
   "version": "1.0"
  }
 },
 "nbformat": 4,
 "nbformat_minor": 2
}
